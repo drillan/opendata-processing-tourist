{
 "cells": [
  {
   "cell_type": "code",
   "execution_count": 1,
   "metadata": {},
   "outputs": [],
   "source": [
    "import numpy as np\n",
    "import pandas as pd"
   ]
  },
  {
   "cell_type": "code",
   "execution_count": 2,
   "metadata": {},
   "outputs": [],
   "source": [
    "data_paths = {\n",
    "    2011: \"https://www.mlit.go.jp/common/000184224.xls\",\n",
    "    2012: \"https://www.mlit.go.jp/common/000994340.xls\",\n",
    "    2013: \"https://www.mlit.go.jp/common/001032144.xls\",\n",
    "    2014: \"https://www.mlit.go.jp/common/001084270.xls\",\n",
    "    2015: \"https://www.mlit.go.jp/common/001173128.xls\",\n",
    "    2016: \"https://www.mlit.go.jp/common/001179510.xls\",\n",
    "    2017: \"https://www.mlit.go.jp/common/001226298.xls\",\n",
    "    2018: \"https://www.mlit.go.jp/common/001283010.xls\",\n",
    "    2019: \"https://www.mlit.go.jp/kankocho/siryou/toukei/content/001335744.xls\",\n",
    "}"
   ]
  },
  {
   "cell_type": "code",
   "execution_count": 3,
   "metadata": {},
   "outputs": [],
   "source": [
    "fix_countries = {\"中国（台湾）\": \"台湾\", \"中国 [香港]\": \"香港\"}\n",
    "fix_port = {\n",
    "    \"新千歳\": \"新千歳空港\",\n",
    "    \"函館空港\": \"函館空港\",\n",
    "    \"仙台\": \"仙台空港\",\n",
    "    \"新潟\": \"新潟空港\",\n",
    "    \"羽田\": \"東京国際空港（羽田空港）\",\n",
    "    \"成田\": \"成田国際空港\",\n",
    "    \"小松\": \"小松空港\",\n",
    "    \"富士山静岡\": \"富士山静岡空港\",\n",
    "    \"中部\": \"中部国際空港\",\n",
    "    \"関西\": \"関西国際空港\",\n",
    "    \"広島\": \"広島空港\",\n",
    "    \"関門（下関）港\": \"関門（下関）港\",\n",
    "    \"高松\": \"高松空港\",\n",
    "    \"福岡\": \"福岡空港\",\n",
    "    \"博多港\": \"博多港\",\n",
    "    \"厳原港\": \"厳原港\",\n",
    "    \"鹿児島\": \"鹿児島空港\",\n",
    "    \"那覇\": \"那覇空港\",\n",
    "}"
   ]
  },
  {
   "cell_type": "code",
   "execution_count": 4,
   "metadata": {},
   "outputs": [],
   "source": [
    "airport_lat = {\n",
    "    \"新千歳空港\": 42.775,\n",
    "    \"函館空港\": 41.77,\n",
    "    \"仙台空港\": 38.136944,\n",
    "    \"新潟空港\": 37.955833,\n",
    "    \"東京国際空港（羽田空港）\": 35.553333,\n",
    "    \"成田国際空港\": 35.765278,\n",
    "    \"小松空港\": 36.393889,\n",
    "    \"富士山静岡空港\": 34.796111,\n",
    "    \"中部国際空港\": 34.858333,\n",
    "    \"関西国際空港\": 34.434167,\n",
    "    \"広島空港\": 34.436111,\n",
    "    \"関門（下関）港\": 33.957889,\n",
    "    \"高松空港\": 34.214167,\n",
    "    \"福岡空港\": 33.584444,\n",
    "    \"博多港\": 33.605133,\n",
    "    \"厳原港\": 34.1977845,\n",
    "    \"鹿児島空港\": 31.8,\n",
    "    \"那覇空港\": 26.205556,\n",
    "}\n",
    "\n",
    "airport_lon = {\n",
    "    \"新千歳空港\": 141.692222,\n",
    "    \"函館空港\": 140.821944,\n",
    "    \"仙台空港\": 140.9225,\n",
    "    \"新潟空港\": 139.120556,\n",
    "    \"東京国際空港（羽田空港）\": 139.781111,\n",
    "    \"成田国際空港\": 140.385556,\n",
    "    \"小松空港\": 136.4075,\n",
    "    \"富士山静岡空港\": 138.189444,\n",
    "    \"中部国際空港\": 136.805278,\n",
    "    \"関西国際空港\": 135.232778,\n",
    "    \"広島空港\": 132.919444,\n",
    "    \"関門（下関）港\": 130.941333,\n",
    "    \"高松空港\": 134.015556,\n",
    "    \"福岡空港\": 130.451667,\n",
    "    \"博多港\": 130.397414,\n",
    "    \"厳原港\": 129.2913508,\n",
    "    \"鹿児島空港\": 130.721667,\n",
    "    \"那覇空港\": 127.650833,\n",
    "}"
   ]
  },
  {
   "cell_type": "code",
   "execution_count": 5,
   "metadata": {},
   "outputs": [],
   "source": [
    "countries = {\n",
    "    \"韓国\": \"KOR\",\n",
    "    \"台湾\": \"TWN\",\n",
    "    \"香港\": \"HKG\",\n",
    "    \"中国\": \"CHN\",\n",
    "    \"タイ\": \"THA\",\n",
    "    \"シンガポール\": \"SGP\",\n",
    "    \"マレーシア\": \"MYS\",\n",
    "    \"インドネシア\": \"IDN\",\n",
    "    \"フィリピン\": \"PHL\",\n",
    "    \"ベトナム\": \"VNM\",\n",
    "    \"インド\": \"IND\",\n",
    "    \"英国\": \"GBR\",\n",
    "    \"ドイツ\": \"DEU\",\n",
    "    \"フランス\": \"FRA\",\n",
    "    \"イタリア\": \"ITA\",\n",
    "    \"スペイン\": \"ESP\",\n",
    "    \"ロシア\": \"RUS\",\n",
    "    \"米国\": \"USA\",\n",
    "    \"カナダ\": \"CAN\",\n",
    "    \"オーストラリア\": \"AUS\",\n",
    "}"
   ]
  },
  {
   "cell_type": "code",
   "execution_count": 6,
   "metadata": {},
   "outputs": [],
   "source": [
    "def get_entry_data(year):\n",
    "    if year > 2017:\n",
    "        sheet_name = \"表1-1\"\n",
    "    else:\n",
    "        sheet_name = \"第１表\"\n",
    "    df = pd.read_excel(data_paths[year], sheet_name=sheet_name, skiprows=4,)\n",
    "\n",
    "    entry_df = (\n",
    "        df.loc[2:, ~df.iloc[0, :].str.startswith(\"構成比\").fillna(False)]\n",
    "        .iloc[:, 1:]\n",
    "        .copy()\n",
    "    )\n",
    "    entry_df = (\n",
    "        entry_df.set_index(\"調査項目\")\n",
    "        .loc[\"入国空港・海港\":\"出国空港・海港\"]\n",
    "        .iloc[:-1, :]\n",
    "        .drop([\"Unnamed: 3\"], axis=1)\n",
    "        .rename({\"Unnamed: 2\": \"空港・海港\"}, axis=1)\n",
    "    )\n",
    "    for col in entry_df.columns[1:]:\n",
    "        entry_df[col] = entry_df[col].astype(float)\n",
    "\n",
    "    entry_tidy_df = entry_df.melt(\n",
    "        id_vars=[\"空港・海港\"],\n",
    "        value_vars=entry_df.columns[1:],\n",
    "        var_name=\"国籍・地域\",\n",
    "        value_name=\"入国\",\n",
    "    )\n",
    "    entry_tidy_df[\"国籍・地域\"] = entry_tidy_df[\"国籍・地域\"].apply(\n",
    "        lambda x: fix_countries.get(x, x)\n",
    "    )\n",
    "    entry_tidy_df[\"空港・海港\"] = entry_tidy_df[\"空港・海港\"].apply(lambda x: fix_port.get(x, x))\n",
    "    entry_tidy_df[\"alpha-3\"] = entry_tidy_df[\"国籍・地域\"].apply(\n",
    "        lambda x: countries.get(x, np.nan)\n",
    "    )\n",
    "    entry_tidy_df[\"lat\"] = entry_tidy_df[\"空港・海港\"].apply(\n",
    "        lambda x: airport_lat.get(x, np.nan)\n",
    "    )\n",
    "    entry_tidy_df[\"lon\"] = entry_tidy_df[\"空港・海港\"].apply(\n",
    "        lambda x: airport_lon.get(x, np.nan)\n",
    "    )\n",
    "    entry_tidy_df[\"年度\"] = year\n",
    "    #     entry_tidy_df.dropna(inplace=True)\n",
    "    return entry_tidy_df"
   ]
  },
  {
   "cell_type": "code",
   "execution_count": 7,
   "metadata": {},
   "outputs": [],
   "source": [
    "df = pd.concat([get_entry_data(year) for year in sorted(data_paths.keys())])"
   ]
  },
  {
   "cell_type": "code",
   "execution_count": 8,
   "metadata": {},
   "outputs": [],
   "source": [
    "df.to_csv(\"entered_port.csv\", index=False)"
   ]
  },
  {
   "cell_type": "code",
   "execution_count": null,
   "metadata": {},
   "outputs": [],
   "source": []
  }
 ],
 "metadata": {
  "kernelspec": {
   "display_name": "Python 3",
   "language": "python",
   "name": "python3"
  },
  "language_info": {
   "codemirror_mode": {
    "name": "ipython",
    "version": 3
   },
   "file_extension": ".py",
   "mimetype": "text/x-python",
   "name": "python",
   "nbconvert_exporter": "python",
   "pygments_lexer": "ipython3",
   "version": "3.8.2"
  }
 },
 "nbformat": 4,
 "nbformat_minor": 4
}
